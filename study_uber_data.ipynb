{
 "cells": [
  {
   "cell_type": "markdown",
   "id": "1216b636",
   "metadata": {},
   "source": [
    "## Study Pandas with Uber Dataset"
   ]
  },
  {
   "cell_type": "markdown",
   "id": "57ac3d10",
   "metadata": {
    "vscode": {
     "languageId": "plaintext"
    }
   },
   "source": [
    "### 📦 Homework Preparation\n",
    "\n",
    "Before you begin, please make sure to:\n",
    "\n",
    "1. **Import the required libraries** (e.g., `pandas`, `numpy`, `matplotlib`).\n",
    "2. **Read the CSV file** in the data folder (e.g.cust.csv, driver.csv)\n",
    "3. **Understand your data** (e.g. What does the dataframe look like? what is its dimension? what are the columns?)\n"
   ]
  },
  {
   "cell_type": "code",
   "execution_count": 1,
   "id": "91f7d76b",
   "metadata": {},
   "outputs": [
    {
     "name": "stdout",
     "output_type": "stream",
     "text": [
      "Index(['cust_id', 'trip_date', 'trip_distance', 'trip_duration', 'trip_fare',\n",
      "       'trip_tips', 'trip_wait_time', 'trip_rating', 'pri_id', 'cust_name',\n",
      "       'trip_id', 'driver_id'],\n",
      "      dtype='object')\n",
      "Index(['driver_id', 'vehicle', 'test_control'], dtype='object')\n"
     ]
    }
   ],
   "source": [
    "import pandas as pd\n",
    "import numpy as np\n",
    "import matplotlib.pyplot as plt\n",
    "\n",
    "df_cust = pd.read_csv('./data/cust.csv')\n",
    "df_driver = pd.read_csv('./data/driver.csv')\n",
    "print(df_cust.columns)\n",
    "print(df_driver.columns)"
   ]
  },
  {
   "cell_type": "markdown",
   "id": "09501fe1",
   "metadata": {},
   "source": [
    "### 🧠 Section 1: Know Your Customers\n",
    "\n",
    "**Objective:**  \n",
    "Get familar with slice, dice, filter with Pandas\n",
    "\n",
    "**Tips:**  \n",
    "- loc (label based), iloc (integer position based)\n",
    "- condition selection (e.g., isin)"
   ]
  },
  {
   "cell_type": "markdown",
   "id": "355e02df",
   "metadata": {},
   "source": []
  },
  {
   "cell_type": "markdown",
   "id": "50ea2e91",
   "metadata": {},
   "source": [
    "**Queston Set 1:**  \n",
    "- set the 'trip_id' as the index for cust table\n",
    "- get the customer names in the even rows from cust table\n",
    "- get the customer names with trip_id in ['T100','T200']\n",
    "- get names of customers who paid tips > 30%\n",
    "- get customer names that have letter 'J' or 'K' in it.\n",
    "- get the average tips customer 'Sandra Jordan' paid to driver\n",
    "- get customer_names who ever gave driver a rating of 1, 3, or 5\n",
    "- create some noise for the data by randomly regerating the trip_rating for customer 'Sandra Jordan'. Note: rating is from 1 to 5"
   ]
  },
  {
   "cell_type": "markdown",
   "id": "1e59cee4",
   "metadata": {},
   "source": [
    "df_cust = df_cust.set_index('trip_id')"
   ]
  },
  {
   "cell_type": "code",
   "execution_count": 7,
   "id": "ba6927ce",
   "metadata": {},
   "outputs": [
    {
     "data": {
      "text/plain": [
       "0       Jason Cunningham\n",
       "22        Danielle Cross\n",
       "40          Ashley Small\n",
       "60      Victoria Roberts\n",
       "86         Johnny Fowler\n",
       "              ...       \n",
       "1628     Mr. Robert Cook\n",
       "1646        Arthur Moore\n",
       "1670     Courtney Murphy\n",
       "1696       Anthony Lopez\n",
       "1718        Shawn Morris\n",
       "Name: cust_name, Length: 99, dtype: object"
      ]
     },
     "execution_count": 7,
     "metadata": {},
     "output_type": "execute_result"
    }
   ],
   "source": [
    "df_cust.loc[::2].cust_name.drop_duplicates()"
   ]
  },
  {
   "cell_type": "code",
   "execution_count": 8,
   "id": "cee7a7c2",
   "metadata": {},
   "outputs": [
    {
     "data": {
      "text/plain": [
       "99     Johnny Fowler\n",
       "199      Anna Lawson\n",
       "Name: cust_name, dtype: object"
      ]
     },
     "execution_count": 8,
     "metadata": {},
     "output_type": "execute_result"
    }
   ],
   "source": [
    "df_cust[df_cust.trip_id.isin(['T100', 'T200'])].cust_name.drop_duplicates()"
   ]
  },
  {
   "cell_type": "code",
   "execution_count": 9,
   "id": "86c6ba66",
   "metadata": {},
   "outputs": [
    {
     "data": {
      "text/plain": [
       "3       Jason Cunningham\n",
       "22        Danielle Cross\n",
       "39          Ashley Small\n",
       "71      Victoria Roberts\n",
       "86         Johnny Fowler\n",
       "              ...       \n",
       "1628     Mr. Robert Cook\n",
       "1648        Arthur Moore\n",
       "1670     Courtney Murphy\n",
       "1698       Anthony Lopez\n",
       "1718        Shawn Morris\n",
       "Name: cust_name, Length: 92, dtype: object"
      ]
     },
     "execution_count": 9,
     "metadata": {},
     "output_type": "execute_result"
    }
   ],
   "source": [
    "df_cust[df_cust['trip_tips']/df_cust['trip_fare'] > 0.3].cust_name.drop_duplicates()"
   ]
  },
  {
   "cell_type": "code",
   "execution_count": 16,
   "id": "b60abd36",
   "metadata": {},
   "outputs": [
    {
     "data": {
      "text/plain": [
       "0        Jason Cunningham\n",
       "86          Johnny Fowler\n",
       "116           Kari Turner\n",
       "186             John Soto\n",
       "207         Michael James\n",
       "264          Luke Johnson\n",
       "274        Kyle Hernandez\n",
       "276     Jordan Richardson\n",
       "358          Brian Kelley\n",
       "405           Jake Miller\n",
       "441           Kara Morgan\n",
       "458        Keith Gonzales\n",
       "484          Kenneth Hill\n",
       "491           James Reyes\n",
       "511          Justin Price\n",
       "624          Tamara Jones\n",
       "670        Kevin Peterson\n",
       "723           Robert Kerr\n",
       "808        Kristina Lopez\n",
       "846        Arthur Johnson\n",
       "868           Jasmine Lee\n",
       "910      Nicholas Krueger\n",
       "966        Robert Jackson\n",
       "1003        Jennifer Shea\n",
       "1016           Kyle Smith\n",
       "1086      Justin Thompson\n",
       "1205         Joseph Mills\n",
       "1223           Jaime Shaw\n",
       "1404         Justin Clark\n",
       "1426        Jeffrey Baker\n",
       "1450        Casey Jackson\n",
       "1461      Johnathan Glass\n",
       "1502         Neil Johnson\n",
       "1556      Jessica Chapman\n",
       "1565          Jaime Smith\n",
       "1586        Joshua Lawson\n",
       "Name: cust_name, dtype: object"
      ]
     },
     "execution_count": 16,
     "metadata": {},
     "output_type": "execute_result"
    }
   ],
   "source": [
    "df_cust[df_cust.cust_name.str.contains('J|K',regex=True)].cust_name.drop_duplicates()"
   ]
  },
  {
   "cell_type": "code",
   "execution_count": 19,
   "id": "f2b29b8c",
   "metadata": {},
   "outputs": [
    {
     "data": {
      "text/plain": [
       "np.float64(5.14764705882353)"
      ]
     },
     "execution_count": 19,
     "metadata": {},
     "output_type": "execute_result"
    }
   ],
   "source": [
    "df_cust[df_cust['cust_name']=='Jasmine Lee']['trip_tips'].mean()"
   ]
  },
  {
   "cell_type": "code",
   "execution_count": 22,
   "id": "44a4023e",
   "metadata": {},
   "outputs": [
    {
     "data": {
      "text/plain": [
       "array(['Jason Cunningham', 'Danielle Cross', 'Ashley Small',\n",
       "       'Victoria Roberts', 'Johnny Fowler', 'Kari Turner', 'Amy Zavala',\n",
       "       'Cameron White', 'Robert Flynn', 'Anna Lawson', 'Michael James',\n",
       "       'Stephen Ryan', 'Corey Reyes', 'Luke Johnson', 'Kyle Hernandez',\n",
       "       'Jordan Richardson', 'Tamara Henderson', 'Patricia Baker',\n",
       "       'Brian Kelley', 'Teresa Hunter', 'Jake Miller', 'Linda Hall',\n",
       "       'Michael Williams', 'Kara Morgan', 'Keith Gonzales', 'Scott Cooke',\n",
       "       'Kenneth Hill', 'James Reyes', 'Justin Price', 'Mindy Williams',\n",
       "       'Andrea Reed', 'Manuel Scott', 'Benjamin Young', 'Lisa Barron',\n",
       "       'Tamara Jones', 'Bruce Parsons', 'Kevin Peterson',\n",
       "       'Shannon Hanson', 'Lauren Brown', 'Robert Kerr',\n",
       "       'Monica Carpenter', 'Christopher David', 'Paul Pruitt',\n",
       "       'Kristina Lopez', 'Aaron Sanchez', 'Paul Green', 'Arthur Johnson',\n",
       "       'Jasmine Lee', 'Ronald Rivera', 'Nicholas Krueger',\n",
       "       'Angela Aguirre', 'Melanie Green', 'Steven Clark',\n",
       "       'Robert Jackson', 'Melinda Benson', 'Jennifer Shea', 'Kyle Smith',\n",
       "       'Mark Richardson', 'Desiree Wilson', 'Melanie Harper',\n",
       "       'Justin Thompson', 'Christopher Cole', 'Haley Palmer',\n",
       "       'Lisa Mcdonald', 'Anthony Wright', 'Michelle Pacheco',\n",
       "       'Sharon Ray', 'Robert Evans', 'Joseph Mills', 'Rachel Nguyen',\n",
       "       'Jaime Shaw', 'Richard Mills', 'Theresa Riley', 'Brandon Long',\n",
       "       'Matthew Gamble', 'Corey Mendez', 'Tiffany Graves',\n",
       "       'Lauren Garcia', 'Dylan Deleon DDS', 'Justin Clark',\n",
       "       'Jeffrey Baker', 'Casey Jackson', 'Johnathan Glass',\n",
       "       'Andrew Gibson', 'Louis Peterson', 'Neil Johnson', 'Philip Yu',\n",
       "       'Carrie Hensley', 'Jessica Chapman', 'Jaime Smith',\n",
       "       'Joshua Lawson', 'Carlos Haynes', 'Mr. Robert Cook',\n",
       "       'Arthur Moore', 'Courtney Murphy', 'Anthony Lopez', 'Shawn Morris'],\n",
       "      dtype=object)"
      ]
     },
     "execution_count": 22,
     "metadata": {},
     "output_type": "execute_result"
    }
   ],
   "source": [
    "df_cust[df_cust['trip_rating'].isin([1,3,5])].cust_name.unique()"
   ]
  },
  {
   "cell_type": "code",
   "execution_count": 23,
   "id": "5fd8f666",
   "metadata": {},
   "outputs": [],
   "source": [
    "df_cust['trip_rating'] = np.where(df_cust['cust_name']=='Jasmine Lee', np.random.choice([1,3,5]), df_cust['trip_rating'])\n"
   ]
  },
  {
   "cell_type": "markdown",
   "id": "ee118e6b",
   "metadata": {},
   "source": [
    "### 🧠 Section 2: Know the Statistics\n",
    "\n",
    "**Objective:**  \n",
    "Get familar with table summary statistic sucn as count, unique value, missing, mean, median, max\n",
    "\n",
    "**Tips:**  \n",
    "- isna(), describe()\n",
    "- coont(), sum()"
   ]
  },
  {
   "cell_type": "markdown",
   "id": "7dec8a6d",
   "metadata": {},
   "source": [
    "**Queston Set 2:**  \n",
    "- how many unique customers (cust_id) are there? \n",
    "- let's say an uber account can be shared whitin a household (e.g., a cust_id can be associated with a pri_id, indicating they belong to a same househod). how many unique households are there in the data? \n",
    "- what is % of trips is booked from secondary holder?\n",
    "- can you show the data type for each column?\n",
    "- for each numerical column, can you output the min, max, 99% percentile, 1% percentile, count (how many rows), valid rows (non missing rows)?\n",
    "- for driver.csv table, can you calculate the % of test group over total population?"
   ]
  },
  {
   "cell_type": "code",
   "execution_count": null,
   "id": "16b8a4d6",
   "metadata": {},
   "outputs": [],
   "source": []
  },
  {
   "cell_type": "markdown",
   "id": "61dd7bd2",
   "metadata": {},
   "source": [
    "### 🧠 Section 3: Know how to merge two tables\n",
    "\n",
    "**Objective:**  \n",
    "Get familiar with table join (e.g., inner join, left join, right join)\n",
    "\n",
    "**Tips:**  \n",
    "- concat()\n",
    "- merge()"
   ]
  },
  {
   "cell_type": "markdown",
   "id": "275692ba",
   "metadata": {},
   "source": [
    "**Queston Set 3a:**  \n",
    "- You found that there is a record missing from driver.csv table. Can you add it back to the driver table after your read the local file? The record is  driver_id (160), vehicle('BMW'), test_control(False)"
   ]
  },
  {
   "cell_type": "markdown",
   "id": "294c0f77",
   "metadata": {},
   "source": []
  },
  {
   "cell_type": "markdown",
   "id": "8ef6b21c",
   "metadata": {},
   "source": [
    "**Queston Set 3b:**  \n",
    "- Based on the two tables (cust and driver tables), can you figure out how many trips every driver made in the past? Note: if there is no trip made, it should be indicated as zero."
   ]
  },
  {
   "cell_type": "markdown",
   "id": "a9a0b423",
   "metadata": {},
   "source": []
  },
  {
   "cell_type": "markdown",
   "id": "34e24af4",
   "metadata": {},
   "source": [
    "**Queston Set 3c:**  \n",
    "- Based on the two tables (cust and driver tables), can you figure out which vehicle is mostly selected by uber customers?"
   ]
  },
  {
   "cell_type": "markdown",
   "id": "c0e89a4d",
   "metadata": {},
   "source": [
    "### 🧠 Section 4: Know how to group\n",
    "\n",
    "**Objective:**  \n",
    "Get familiar with grouping\n",
    "\n",
    "**Tips:**  \n",
    "- groupby()\n",
    "- apply(), transform(), lambda, agg()"
   ]
  },
  {
   "cell_type": "markdown",
   "id": "821b4c1c",
   "metadata": {},
   "source": [
    "**Queston Set 4a:**  \n",
    "- customers paid different tip for each trip. can you find out which customer have the most and least variation in tips? The variation is defined as max(trip_tips)-min(trip_tips) for each customer?"
   ]
  },
  {
   "cell_type": "code",
   "execution_count": null,
   "id": "0b88a6ab",
   "metadata": {},
   "outputs": [],
   "source": []
  },
  {
   "cell_type": "markdown",
   "id": "a204f5f9",
   "metadata": {},
   "source": [
    "**Queston Set 4b:**  \n",
    "- figure out the total trip fare by test and control group\n",
    "- figure out the contribution of each trip (% of each trip fare to total fare), segmented by test and control group"
   ]
  },
  {
   "cell_type": "markdown",
   "id": "92315115",
   "metadata": {},
   "source": []
  },
  {
   "cell_type": "markdown",
   "id": "4049883a",
   "metadata": {},
   "source": [
    "**Queston Set 4c:**  \n",
    "- customer can select a driver more than once in the data. can you figure out how many unique cust-driver pair in the table?"
   ]
  },
  {
   "cell_type": "markdown",
   "id": "3eeda72e",
   "metadata": {},
   "source": []
  },
  {
   "cell_type": "markdown",
   "id": "550141d7",
   "metadata": {},
   "source": [
    "**Queston Set 4d:**  \n",
    "- not every customer paid tips in each trip. can you calculate the total number of tipping event per customer."
   ]
  },
  {
   "cell_type": "code",
   "execution_count": null,
   "id": "f46533e5",
   "metadata": {},
   "outputs": [],
   "source": []
  },
  {
   "cell_type": "markdown",
   "id": "d608b224",
   "metadata": {},
   "source": [
    "**Question Set 4e**\n",
    "- divide the customers in 10 equal bins based on trip fare, and calculate the average tips in each bin."
   ]
  },
  {
   "cell_type": "code",
   "execution_count": null,
   "id": "4a8080ca",
   "metadata": {},
   "outputs": [],
   "source": []
  },
  {
   "cell_type": "markdown",
   "id": "fa2c90af",
   "metadata": {},
   "source": [
    "### 🧠 Section 5: Know the time\n",
    "\n",
    "**Objective:**  \n",
    "Get familar with time time formating and time series\n",
    "\n",
    "**Tips:**  \n",
    "- to_datetime()\n",
    "- shift()"
   ]
  },
  {
   "cell_type": "markdown",
   "id": "833647d5",
   "metadata": {},
   "source": [
    "**Queston Set 5a:**  \n",
    "- can you calcuate the average trip fare per month, segmented by test and control group?\n",
    "- can you plot the above results to show the trend?"
   ]
  },
  {
   "cell_type": "markdown",
   "id": "0d596fe1",
   "metadata": {},
   "source": []
  },
  {
   "cell_type": "markdown",
   "id": "88d7de1a",
   "metadata": {},
   "source": [
    "**Queston Set 5b:**  \n",
    "- A promising customer is defined as those that have 3 more trip fare increasing events (increase compared to last trip). Find all of them."
   ]
  },
  {
   "cell_type": "markdown",
   "id": "670e8019",
   "metadata": {},
   "source": []
  },
  {
   "cell_type": "markdown",
   "id": "4eaf01e2",
   "metadata": {},
   "source": [
    "**Queston Set 5c:**  \n",
    "- lag is defined as days between current trip and previous trip. calculate the average lag for each customers"
   ]
  },
  {
   "cell_type": "markdown",
   "id": "4b493af2",
   "metadata": {},
   "source": []
  },
  {
   "cell_type": "markdown",
   "id": "403c83b2",
   "metadata": {},
   "source": [
    "### 🧠 Section 6: Know Pivot Table\n",
    "\n",
    "**Objective:**  \n",
    "Get familar with pivot table\n",
    "\n",
    "**Tips:**  \n",
    "- pivot()"
   ]
  },
  {
   "cell_type": "markdown",
   "id": "339acdac",
   "metadata": {},
   "source": [
    "**Queston Set 6:**  \n",
    "- pivot the table so that the columns of the new table are ['test','control'], and the index is vehicle type. The values in the table should be the trip distance."
   ]
  },
  {
   "cell_type": "code",
   "execution_count": null,
   "id": "1ec80c09",
   "metadata": {},
   "outputs": [],
   "source": []
  },
  {
   "cell_type": "markdown",
   "id": "6331263f",
   "metadata": {},
   "source": [
    "### 🧠 Section 7: Numpy\n",
    "\n",
    "**Objective:**  \n",
    "Get familar with numpy ans simulation\n",
    "\n",
    "**Tips:**  \n",
    "- numpy.random"
   ]
  },
  {
   "cell_type": "markdown",
   "id": "9cf916c2",
   "metadata": {},
   "source": [
    "**Question Set 7**\n",
    "- calculate average and standard deviation of tips by bootstrapping (tips: do 100 experiments, sample 50% of the population in each experiment, and calculate mean)\n",
    "- assign a probability for each trip from a uniform distribution. if the p > 0.5, sample the row, otherwise filter it."
   ]
  },
  {
   "cell_type": "markdown",
   "id": "d9a406f9",
   "metadata": {},
   "source": []
  }
 ],
 "metadata": {
  "kernelspec": {
   "display_name": "air-loc",
   "language": "python",
   "name": "python3"
  },
  "language_info": {
   "codemirror_mode": {
    "name": "ipython",
    "version": 3
   },
   "file_extension": ".py",
   "mimetype": "text/x-python",
   "name": "python",
   "nbconvert_exporter": "python",
   "pygments_lexer": "ipython3",
   "version": "3.12.9"
  }
 },
 "nbformat": 4,
 "nbformat_minor": 5
}
