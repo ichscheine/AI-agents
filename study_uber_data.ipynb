{
 "cells": [
  {
   "cell_type": "markdown",
   "id": "1216b636",
   "metadata": {},
   "source": [
    "## Study Pandas with Uber Dataset"
   ]
  },
  {
   "cell_type": "markdown",
   "id": "57ac3d10",
   "metadata": {
    "vscode": {
     "languageId": "plaintext"
    }
   },
   "source": [
    "### 📦 Homework Preparation\n",
    "\n",
    "Before you begin, please make sure to:\n",
    "\n",
    "1. **Import the required libraries** (e.g., `pandas`, `numpy`, `matplotlib`).\n",
    "2. **Read the CSV file** in the data folder (e.g.cust.csv, driver.csv)\n",
    "3. **Understand your data** (e.g. What does the dataframe look like? what is its dimension? what are the columns?)\n"
   ]
  },
  {
   "cell_type": "code",
   "execution_count": null,
   "id": "91f7d76b",
   "metadata": {},
   "outputs": [
    {
     "name": "stdout",
     "output_type": "stream",
     "text": [
      "Index(['cust_id', 'trip_date', 'trip_distance', 'trip_duration', 'trip_fare',\n",
      "       'trip_tips', 'trip_wait_time', 'trip_rating', 'pri_id', 'cust_name',\n",
      "       'trip_id', 'driver_id'],\n",
      "      dtype='object')\n",
      "Index(['driver_id', 'vehicle', 'test_control'], dtype='object')\n"
     ]
    }
   ],
   "source": [
    "import pandas as pd\n",
    "import numpy as np\n",
    "import matplotlib.pyplot as plt\n",
    "import seaborn as sns\n",
    "\n",
    "df_cust = pd.read_csv('./data/cust.csv')\n",
    "df_driver = pd.read_csv('./data/driver.csv')\n",
    "print(df_cust.columns)\n",
    "print(df_driver.columns)"
   ]
  },
  {
   "cell_type": "markdown",
   "id": "09501fe1",
   "metadata": {},
   "source": [
    "### 🧠 Section 1: Know Your Customers\n",
    "\n",
    "**Objective:**  \n",
    "Get familar with slice, dice, filter with Pandas\n",
    "\n",
    "**Tips:**  \n",
    "- loc (label based), iloc (integer position based)\n",
    "- condition selection (e.g., isin)"
   ]
  },
  {
   "cell_type": "markdown",
   "id": "355e02df",
   "metadata": {},
   "source": []
  },
  {
   "cell_type": "markdown",
   "id": "50ea2e91",
   "metadata": {},
   "source": [
    "**Queston Set 1:**  \n",
    "- set the 'trip_id' as the index for cust table\n",
    "- get the customer names in the even rows from cust table\n",
    "- get the customer names with trip_id in ['T100','T200']\n",
    "- get names of customers who paid tips > 30%\n",
    "- get customer names that have letter 'J' or 'K' in it.\n",
    "- get the average tips customer 'Sandra Jordan' paid to driver\n",
    "- get customer_names who ever gave driver a rating of 1, 3, or 5\n",
    "- create some noise for the data by randomly regerating the trip_rating for customer 'Sandra Jordan'. Note: rating is from 1 to 5"
   ]
  },
  {
   "cell_type": "markdown",
   "id": "1e59cee4",
   "metadata": {},
   "source": [
    "df_cust = df_cust.set_index('trip_id')"
   ]
  },
  {
   "cell_type": "code",
   "execution_count": 2,
   "id": "ba6927ce",
   "metadata": {},
   "outputs": [
    {
     "data": {
      "text/plain": [
       "0       Jason Cunningham\n",
       "22        Danielle Cross\n",
       "40          Ashley Small\n",
       "60      Victoria Roberts\n",
       "86         Johnny Fowler\n",
       "              ...       \n",
       "1628     Mr. Robert Cook\n",
       "1646        Arthur Moore\n",
       "1670     Courtney Murphy\n",
       "1696       Anthony Lopez\n",
       "1718        Shawn Morris\n",
       "Name: cust_name, Length: 99, dtype: object"
      ]
     },
     "execution_count": 2,
     "metadata": {},
     "output_type": "execute_result"
    }
   ],
   "source": [
    "df_cust.iloc[::2].cust_name.drop_duplicates()"
   ]
  },
  {
   "cell_type": "code",
   "execution_count": 8,
   "id": "cee7a7c2",
   "metadata": {},
   "outputs": [
    {
     "data": {
      "text/plain": [
       "99     Johnny Fowler\n",
       "199      Anna Lawson\n",
       "Name: cust_name, dtype: object"
      ]
     },
     "execution_count": 8,
     "metadata": {},
     "output_type": "execute_result"
    }
   ],
   "source": [
    "df_cust[df_cust.trip_id.isin(['T100', 'T200'])].cust_name.drop_duplicates()"
   ]
  },
  {
   "cell_type": "code",
   "execution_count": 9,
   "id": "86c6ba66",
   "metadata": {},
   "outputs": [
    {
     "data": {
      "text/plain": [
       "3       Jason Cunningham\n",
       "22        Danielle Cross\n",
       "39          Ashley Small\n",
       "71      Victoria Roberts\n",
       "86         Johnny Fowler\n",
       "              ...       \n",
       "1628     Mr. Robert Cook\n",
       "1648        Arthur Moore\n",
       "1670     Courtney Murphy\n",
       "1698       Anthony Lopez\n",
       "1718        Shawn Morris\n",
       "Name: cust_name, Length: 92, dtype: object"
      ]
     },
     "execution_count": 9,
     "metadata": {},
     "output_type": "execute_result"
    }
   ],
   "source": [
    "df_cust[df_cust['trip_tips']/df_cust['trip_fare'] > 0.3].cust_name.drop_duplicates()"
   ]
  },
  {
   "cell_type": "code",
   "execution_count": 16,
   "id": "b60abd36",
   "metadata": {},
   "outputs": [
    {
     "data": {
      "text/plain": [
       "0        Jason Cunningham\n",
       "86          Johnny Fowler\n",
       "116           Kari Turner\n",
       "186             John Soto\n",
       "207         Michael James\n",
       "264          Luke Johnson\n",
       "274        Kyle Hernandez\n",
       "276     Jordan Richardson\n",
       "358          Brian Kelley\n",
       "405           Jake Miller\n",
       "441           Kara Morgan\n",
       "458        Keith Gonzales\n",
       "484          Kenneth Hill\n",
       "491           James Reyes\n",
       "511          Justin Price\n",
       "624          Tamara Jones\n",
       "670        Kevin Peterson\n",
       "723           Robert Kerr\n",
       "808        Kristina Lopez\n",
       "846        Arthur Johnson\n",
       "868           Jasmine Lee\n",
       "910      Nicholas Krueger\n",
       "966        Robert Jackson\n",
       "1003        Jennifer Shea\n",
       "1016           Kyle Smith\n",
       "1086      Justin Thompson\n",
       "1205         Joseph Mills\n",
       "1223           Jaime Shaw\n",
       "1404         Justin Clark\n",
       "1426        Jeffrey Baker\n",
       "1450        Casey Jackson\n",
       "1461      Johnathan Glass\n",
       "1502         Neil Johnson\n",
       "1556      Jessica Chapman\n",
       "1565          Jaime Smith\n",
       "1586        Joshua Lawson\n",
       "Name: cust_name, dtype: object"
      ]
     },
     "execution_count": 16,
     "metadata": {},
     "output_type": "execute_result"
    }
   ],
   "source": [
    "df_cust[df_cust.cust_name.str.contains('J|K',regex=True)].cust_name.drop_duplicates()"
   ]
  },
  {
   "cell_type": "code",
   "execution_count": 19,
   "id": "f2b29b8c",
   "metadata": {},
   "outputs": [
    {
     "data": {
      "text/plain": [
       "np.float64(5.14764705882353)"
      ]
     },
     "execution_count": 19,
     "metadata": {},
     "output_type": "execute_result"
    }
   ],
   "source": [
    "df_cust[df_cust['cust_name']=='Jasmine Lee']['trip_tips'].mean()"
   ]
  },
  {
   "cell_type": "code",
   "execution_count": 22,
   "id": "44a4023e",
   "metadata": {},
   "outputs": [
    {
     "data": {
      "text/plain": [
       "array(['Jason Cunningham', 'Danielle Cross', 'Ashley Small',\n",
       "       'Victoria Roberts', 'Johnny Fowler', 'Kari Turner', 'Amy Zavala',\n",
       "       'Cameron White', 'Robert Flynn', 'Anna Lawson', 'Michael James',\n",
       "       'Stephen Ryan', 'Corey Reyes', 'Luke Johnson', 'Kyle Hernandez',\n",
       "       'Jordan Richardson', 'Tamara Henderson', 'Patricia Baker',\n",
       "       'Brian Kelley', 'Teresa Hunter', 'Jake Miller', 'Linda Hall',\n",
       "       'Michael Williams', 'Kara Morgan', 'Keith Gonzales', 'Scott Cooke',\n",
       "       'Kenneth Hill', 'James Reyes', 'Justin Price', 'Mindy Williams',\n",
       "       'Andrea Reed', 'Manuel Scott', 'Benjamin Young', 'Lisa Barron',\n",
       "       'Tamara Jones', 'Bruce Parsons', 'Kevin Peterson',\n",
       "       'Shannon Hanson', 'Lauren Brown', 'Robert Kerr',\n",
       "       'Monica Carpenter', 'Christopher David', 'Paul Pruitt',\n",
       "       'Kristina Lopez', 'Aaron Sanchez', 'Paul Green', 'Arthur Johnson',\n",
       "       'Jasmine Lee', 'Ronald Rivera', 'Nicholas Krueger',\n",
       "       'Angela Aguirre', 'Melanie Green', 'Steven Clark',\n",
       "       'Robert Jackson', 'Melinda Benson', 'Jennifer Shea', 'Kyle Smith',\n",
       "       'Mark Richardson', 'Desiree Wilson', 'Melanie Harper',\n",
       "       'Justin Thompson', 'Christopher Cole', 'Haley Palmer',\n",
       "       'Lisa Mcdonald', 'Anthony Wright', 'Michelle Pacheco',\n",
       "       'Sharon Ray', 'Robert Evans', 'Joseph Mills', 'Rachel Nguyen',\n",
       "       'Jaime Shaw', 'Richard Mills', 'Theresa Riley', 'Brandon Long',\n",
       "       'Matthew Gamble', 'Corey Mendez', 'Tiffany Graves',\n",
       "       'Lauren Garcia', 'Dylan Deleon DDS', 'Justin Clark',\n",
       "       'Jeffrey Baker', 'Casey Jackson', 'Johnathan Glass',\n",
       "       'Andrew Gibson', 'Louis Peterson', 'Neil Johnson', 'Philip Yu',\n",
       "       'Carrie Hensley', 'Jessica Chapman', 'Jaime Smith',\n",
       "       'Joshua Lawson', 'Carlos Haynes', 'Mr. Robert Cook',\n",
       "       'Arthur Moore', 'Courtney Murphy', 'Anthony Lopez', 'Shawn Morris'],\n",
       "      dtype=object)"
      ]
     },
     "execution_count": 22,
     "metadata": {},
     "output_type": "execute_result"
    }
   ],
   "source": [
    "df_cust[df_cust['trip_rating'].isin([1,3,5])].cust_name.unique()"
   ]
  },
  {
   "cell_type": "code",
   "execution_count": null,
   "id": "5fd8f666",
   "metadata": {},
   "outputs": [],
   "source": [
    "df_cust['trip_rating'] = np.where(df_cust['cust_name']=='Jasmine Lee', np.random.choice([1,3,5]), df_cust['trip_rating'])"
   ]
  },
  {
   "cell_type": "markdown",
   "id": "ee118e6b",
   "metadata": {},
   "source": [
    "### 🧠 Section 2: Know the Statistics\n",
    "\n",
    "**Objective:**  \n",
    "Get familar with table summary statistics such as count, unique value, missing, mean, median, max\n",
    "\n",
    "**Tips:**  \n",
    "- isna(), describe()\n",
    "- count(), sum()"
   ]
  },
  {
   "cell_type": "markdown",
   "id": "7dec8a6d",
   "metadata": {},
   "source": [
    "**Queston Set 2:**  \n",
    "- how many unique customers (cust_id) are there? \n",
    "- let's say an uber account can be shared whitin a household (e.g., a cust_id can be associated with a pri_id, indicating they belong to a same househod). how many unique households are there in the data? \n",
    "- what is % of trips is booked from secondary holder?\n",
    "- can you show the data type for each column?\n",
    "- for each numerical column, can you output the min, max, 99% percentile, 1% percentile, count (how many rows), valid rows (non missing rows)?\n",
    "- for driver.csv table, can you calculate the % of test group over total population?"
   ]
  },
  {
   "cell_type": "code",
   "execution_count": 3,
   "id": "16b8a4d6",
   "metadata": {},
   "outputs": [
    {
     "data": {
      "text/plain": [
       "100"
      ]
     },
     "execution_count": 3,
     "metadata": {},
     "output_type": "execute_result"
    }
   ],
   "source": [
    "df_cust.cust_id.nunique()"
   ]
  },
  {
   "cell_type": "code",
   "execution_count": null,
   "id": "3ab8f0bc",
   "metadata": {},
   "outputs": [
    {
     "data": {
      "text/plain": [
       "60"
      ]
     },
     "execution_count": 18,
     "metadata": {},
     "output_type": "execute_result"
    }
   ],
   "source": [
    "df_cust[df_cust['pri_id'].isnull()].cust_id.nunique()"
   ]
  },
  {
   "cell_type": "code",
   "execution_count": 22,
   "id": "ed271beb",
   "metadata": {},
   "outputs": [
    {
     "data": {
      "text/plain": [
       "np.float64(0.3559516963772283)"
      ]
     },
     "execution_count": 22,
     "metadata": {},
     "output_type": "execute_result"
    }
   ],
   "source": [
    "df_cust[~df_cust['pri_id'].isnull()]['trip_id'].count()/df_cust['trip_id'].count()"
   ]
  },
  {
   "cell_type": "code",
   "execution_count": 23,
   "id": "b11f0721",
   "metadata": {},
   "outputs": [
    {
     "data": {
      "text/plain": [
       "cust_id             int64\n",
       "trip_date          object\n",
       "trip_distance     float64\n",
       "trip_duration     float64\n",
       "trip_fare         float64\n",
       "trip_tips         float64\n",
       "trip_wait_time    float64\n",
       "trip_rating       float64\n",
       "pri_id            float64\n",
       "cust_name          object\n",
       "trip_id            object\n",
       "driver_id           int64\n",
       "dtype: object"
      ]
     },
     "execution_count": 23,
     "metadata": {},
     "output_type": "execute_result"
    }
   ],
   "source": [
    "df_cust.dtypes\n"
   ]
  },
  {
   "cell_type": "code",
   "execution_count": 27,
   "id": "ba3c9371",
   "metadata": {},
   "outputs": [
    {
     "data": {
      "text/html": [
       "<div>\n",
       "<style scoped>\n",
       "    .dataframe tbody tr th:only-of-type {\n",
       "        vertical-align: middle;\n",
       "    }\n",
       "\n",
       "    .dataframe tbody tr th {\n",
       "        vertical-align: top;\n",
       "    }\n",
       "\n",
       "    .dataframe thead th {\n",
       "        text-align: right;\n",
       "    }\n",
       "</style>\n",
       "<table border=\"1\" class=\"dataframe\">\n",
       "  <thead>\n",
       "    <tr style=\"text-align: right;\">\n",
       "      <th></th>\n",
       "      <th>trip_distance</th>\n",
       "      <th>trip_duration</th>\n",
       "      <th>trip_fare</th>\n",
       "      <th>trip_tips</th>\n",
       "      <th>trip_wait_time</th>\n",
       "      <th>trip_rating</th>\n",
       "    </tr>\n",
       "  </thead>\n",
       "  <tbody>\n",
       "    <tr>\n",
       "      <th>count</th>\n",
       "      <td>1739.000000</td>\n",
       "      <td>1739.000000</td>\n",
       "      <td>1739.000000</td>\n",
       "      <td>1739.000000</td>\n",
       "      <td>1739.000000</td>\n",
       "      <td>1571.000000</td>\n",
       "    </tr>\n",
       "    <tr>\n",
       "      <th>mean</th>\n",
       "      <td>5.051219</td>\n",
       "      <td>5.678143</td>\n",
       "      <td>27.629132</td>\n",
       "      <td>4.779482</td>\n",
       "      <td>2.937895</td>\n",
       "      <td>3.537874</td>\n",
       "    </tr>\n",
       "    <tr>\n",
       "      <th>std</th>\n",
       "      <td>4.819995</td>\n",
       "      <td>6.062930</td>\n",
       "      <td>12.651035</td>\n",
       "      <td>2.878790</td>\n",
       "      <td>2.953932</td>\n",
       "      <td>1.258980</td>\n",
       "    </tr>\n",
       "    <tr>\n",
       "      <th>min</th>\n",
       "      <td>0.000000</td>\n",
       "      <td>0.000000</td>\n",
       "      <td>5.010000</td>\n",
       "      <td>0.010000</td>\n",
       "      <td>0.000000</td>\n",
       "      <td>1.000000</td>\n",
       "    </tr>\n",
       "    <tr>\n",
       "      <th>1%</th>\n",
       "      <td>0.063800</td>\n",
       "      <td>0.060000</td>\n",
       "      <td>5.595200</td>\n",
       "      <td>0.100000</td>\n",
       "      <td>0.000000</td>\n",
       "      <td>1.000000</td>\n",
       "    </tr>\n",
       "    <tr>\n",
       "      <th>50%</th>\n",
       "      <td>3.670000</td>\n",
       "      <td>3.810000</td>\n",
       "      <td>27.530000</td>\n",
       "      <td>4.640000</td>\n",
       "      <td>2.000000</td>\n",
       "      <td>4.000000</td>\n",
       "    </tr>\n",
       "    <tr>\n",
       "      <th>99%</th>\n",
       "      <td>21.753000</td>\n",
       "      <td>28.293200</td>\n",
       "      <td>49.468600</td>\n",
       "      <td>9.840000</td>\n",
       "      <td>13.000000</td>\n",
       "      <td>5.000000</td>\n",
       "    </tr>\n",
       "    <tr>\n",
       "      <th>max</th>\n",
       "      <td>37.210000</td>\n",
       "      <td>67.880000</td>\n",
       "      <td>49.990000</td>\n",
       "      <td>9.990000</td>\n",
       "      <td>22.000000</td>\n",
       "      <td>5.000000</td>\n",
       "    </tr>\n",
       "  </tbody>\n",
       "</table>\n",
       "</div>"
      ],
      "text/plain": [
       "       trip_distance  trip_duration    trip_fare    trip_tips  trip_wait_time  \\\n",
       "count    1739.000000    1739.000000  1739.000000  1739.000000     1739.000000   \n",
       "mean        5.051219       5.678143    27.629132     4.779482        2.937895   \n",
       "std         4.819995       6.062930    12.651035     2.878790        2.953932   \n",
       "min         0.000000       0.000000     5.010000     0.010000        0.000000   \n",
       "1%          0.063800       0.060000     5.595200     0.100000        0.000000   \n",
       "50%         3.670000       3.810000    27.530000     4.640000        2.000000   \n",
       "99%        21.753000      28.293200    49.468600     9.840000       13.000000   \n",
       "max        37.210000      67.880000    49.990000     9.990000       22.000000   \n",
       "\n",
       "       trip_rating  \n",
       "count  1571.000000  \n",
       "mean      3.537874  \n",
       "std       1.258980  \n",
       "min       1.000000  \n",
       "1%        1.000000  \n",
       "50%       4.000000  \n",
       "99%       5.000000  \n",
       "max       5.000000  "
      ]
     },
     "execution_count": 27,
     "metadata": {},
     "output_type": "execute_result"
    }
   ],
   "source": [
    "numvars = ['trip_distance', 'trip_duration','trip_fare', 'trip_tips', 'trip_wait_time', 'trip_rating']\n",
    "df_cust[numvars].describe(percentiles=[.01, .99])"
   ]
  },
  {
   "cell_type": "code",
   "execution_count": 31,
   "id": "4407f7b0",
   "metadata": {},
   "outputs": [
    {
     "data": {
      "text/plain": [
       "0.5"
      ]
     },
     "execution_count": 31,
     "metadata": {},
     "output_type": "execute_result"
    }
   ],
   "source": [
    "df_driver[df_driver['test_control']==True]['driver_id'].nunique()/ df_driver['driver_id'].nunique()\n"
   ]
  },
  {
   "cell_type": "markdown",
   "id": "61dd7bd2",
   "metadata": {},
   "source": [
    "### 🧠 Section 3: Know how to merge two tables\n",
    "\n",
    "**Objective:**  \n",
    "Get familiar with table join (e.g., inner join, left join, right join)\n",
    "\n",
    "**Tips:**  \n",
    "- concat()\n",
    "- merge()"
   ]
  },
  {
   "cell_type": "markdown",
   "id": "275692ba",
   "metadata": {},
   "source": [
    "**Queston Set 3a:**  \n",
    "- You found that there is a record missing from driver.csv table. Can you add it back to the driver table after your read the local file? The record is  driver_id (160), vehicle('BMW'), test_control(False)"
   ]
  },
  {
   "cell_type": "code",
   "execution_count": 34,
   "id": "3f16ad03",
   "metadata": {},
   "outputs": [],
   "source": [
    "df_missing = pd.DataFrame(columns=['driver_id', 'vehicle', 'test_control']\n",
    "                          , data = [[160, 'BMW', False]])\n",
    "\n",
    "df_driver = pd.concat([df_driver, df_missing], ignore_index=True)"
   ]
  },
  {
   "cell_type": "markdown",
   "id": "8ef6b21c",
   "metadata": {},
   "source": [
    "**Queston Set 3b:**  \n",
    "- Based on the two tables (cust and driver tables), can you figure out how many trips every driver made in the past? Note: if there is no trip made, it should be indicated as zero."
   ]
  },
  {
   "cell_type": "code",
   "execution_count": 40,
   "id": "197aae8e",
   "metadata": {},
   "outputs": [
    {
     "data": {
      "text/html": [
       "<div>\n",
       "<style scoped>\n",
       "    .dataframe tbody tr th:only-of-type {\n",
       "        vertical-align: middle;\n",
       "    }\n",
       "\n",
       "    .dataframe tbody tr th {\n",
       "        vertical-align: top;\n",
       "    }\n",
       "\n",
       "    .dataframe thead th {\n",
       "        text-align: right;\n",
       "    }\n",
       "</style>\n",
       "<table border=\"1\" class=\"dataframe\">\n",
       "  <thead>\n",
       "    <tr style=\"text-align: right;\">\n",
       "      <th></th>\n",
       "      <th>driver_id</th>\n",
       "      <th>trip_id</th>\n",
       "    </tr>\n",
       "  </thead>\n",
       "  <tbody>\n",
       "    <tr>\n",
       "      <th>0</th>\n",
       "      <td>1</td>\n",
       "      <td>9</td>\n",
       "    </tr>\n",
       "    <tr>\n",
       "      <th>1</th>\n",
       "      <td>2</td>\n",
       "      <td>11</td>\n",
       "    </tr>\n",
       "    <tr>\n",
       "      <th>2</th>\n",
       "      <td>3</td>\n",
       "      <td>12</td>\n",
       "    </tr>\n",
       "    <tr>\n",
       "      <th>3</th>\n",
       "      <td>4</td>\n",
       "      <td>14</td>\n",
       "    </tr>\n",
       "    <tr>\n",
       "      <th>4</th>\n",
       "      <td>5</td>\n",
       "      <td>11</td>\n",
       "    </tr>\n",
       "    <tr>\n",
       "      <th>...</th>\n",
       "      <td>...</td>\n",
       "      <td>...</td>\n",
       "    </tr>\n",
       "    <tr>\n",
       "      <th>146</th>\n",
       "      <td>147</td>\n",
       "      <td>13</td>\n",
       "    </tr>\n",
       "    <tr>\n",
       "      <th>147</th>\n",
       "      <td>148</td>\n",
       "      <td>16</td>\n",
       "    </tr>\n",
       "    <tr>\n",
       "      <th>148</th>\n",
       "      <td>149</td>\n",
       "      <td>18</td>\n",
       "    </tr>\n",
       "    <tr>\n",
       "      <th>149</th>\n",
       "      <td>150</td>\n",
       "      <td>9</td>\n",
       "    </tr>\n",
       "    <tr>\n",
       "      <th>150</th>\n",
       "      <td>160</td>\n",
       "      <td>0</td>\n",
       "    </tr>\n",
       "  </tbody>\n",
       "</table>\n",
       "<p>151 rows × 2 columns</p>\n",
       "</div>"
      ],
      "text/plain": [
       "     driver_id  trip_id\n",
       "0            1        9\n",
       "1            2       11\n",
       "2            3       12\n",
       "3            4       14\n",
       "4            5       11\n",
       "..         ...      ...\n",
       "146        147       13\n",
       "147        148       16\n",
       "148        149       18\n",
       "149        150        9\n",
       "150        160        0\n",
       "\n",
       "[151 rows x 2 columns]"
      ]
     },
     "execution_count": 40,
     "metadata": {},
     "output_type": "execute_result"
    }
   ],
   "source": [
    "df = df_driver.merge(df_cust, on='driver_id', how='left')\n",
    "df.groupby('driver_id')['trip_id'].count().reset_index()"
   ]
  },
  {
   "cell_type": "markdown",
   "id": "34e24af4",
   "metadata": {},
   "source": [
    "**Queston Set 3c:**  \n",
    "- Based on the two tables (cust and driver tables), can you figure out which vehicle is mostly selected by uber customers?"
   ]
  },
  {
   "cell_type": "code",
   "execution_count": 47,
   "id": "152195ad",
   "metadata": {},
   "outputs": [
    {
     "data": {
      "text/html": [
       "<div>\n",
       "<style scoped>\n",
       "    .dataframe tbody tr th:only-of-type {\n",
       "        vertical-align: middle;\n",
       "    }\n",
       "\n",
       "    .dataframe tbody tr th {\n",
       "        vertical-align: top;\n",
       "    }\n",
       "\n",
       "    .dataframe thead th {\n",
       "        text-align: right;\n",
       "    }\n",
       "</style>\n",
       "<table border=\"1\" class=\"dataframe\">\n",
       "  <thead>\n",
       "    <tr style=\"text-align: right;\">\n",
       "      <th></th>\n",
       "      <th>vehicle</th>\n",
       "      <th>count</th>\n",
       "    </tr>\n",
       "  </thead>\n",
       "  <tbody>\n",
       "    <tr>\n",
       "      <th>1</th>\n",
       "      <td>Chevrolet</td>\n",
       "      <td>373</td>\n",
       "    </tr>\n",
       "    <tr>\n",
       "      <th>3</th>\n",
       "      <td>Honda</td>\n",
       "      <td>307</td>\n",
       "    </tr>\n",
       "    <tr>\n",
       "      <th>2</th>\n",
       "      <td>Ford</td>\n",
       "      <td>282</td>\n",
       "    </tr>\n",
       "    <tr>\n",
       "      <th>4</th>\n",
       "      <td>Nissan</td>\n",
       "      <td>281</td>\n",
       "    </tr>\n",
       "    <tr>\n",
       "      <th>6</th>\n",
       "      <td>Toyota</td>\n",
       "      <td>256</td>\n",
       "    </tr>\n",
       "    <tr>\n",
       "      <th>5</th>\n",
       "      <td>Telsa</td>\n",
       "      <td>240</td>\n",
       "    </tr>\n",
       "    <tr>\n",
       "      <th>0</th>\n",
       "      <td>BMW</td>\n",
       "      <td>0</td>\n",
       "    </tr>\n",
       "  </tbody>\n",
       "</table>\n",
       "</div>"
      ],
      "text/plain": [
       "     vehicle  count\n",
       "1  Chevrolet    373\n",
       "3      Honda    307\n",
       "2       Ford    282\n",
       "4     Nissan    281\n",
       "6     Toyota    256\n",
       "5      Telsa    240\n",
       "0        BMW      0"
      ]
     },
     "execution_count": 47,
     "metadata": {},
     "output_type": "execute_result"
    }
   ],
   "source": [
    "vehicle_counts = pd.DataFrame(df.groupby(['vehicle'])['trip_id'].count()).reset_index()\n",
    "vehicle_counts.columns = ['vehicle', 'count']\n",
    "vehicle_counts.sort_values(by=['count'], ascending=False)"
   ]
  },
  {
   "cell_type": "markdown",
   "id": "c0e89a4d",
   "metadata": {},
   "source": [
    "### 🧠 Section 4: Know how to group\n",
    "\n",
    "**Objective:**  \n",
    "Get familiar with grouping\n",
    "\n",
    "**Tips:**  \n",
    "- groupby()\n",
    "- apply(), transform(), lambda, agg()"
   ]
  },
  {
   "cell_type": "markdown",
   "id": "821b4c1c",
   "metadata": {},
   "source": [
    "**Queston Set 4a:**  \n",
    "- customers paid different tip for each trip. can you find out which customer have the most and least variation in tips? The variation is defined as max(trip_tips)-min(trip_tips) for each customer?"
   ]
  },
  {
   "cell_type": "code",
   "execution_count": 49,
   "id": "0b88a6ab",
   "metadata": {},
   "outputs": [
    {
     "name": "stdout",
     "output_type": "stream",
     "text": [
      "    cust_id   max   min  variation\n",
      "72     73.0  9.97  0.08       9.89     cust_id   max   min  variation\n",
      "73     74.0  6.67  6.67        0.0\n"
     ]
    }
   ],
   "source": [
    "df_tips = df.groupby(['cust_id'])['trip_tips'].agg(['max', 'min']).reset_index()\n",
    "df_tips['variation'] = df_tips['max'] - df_tips['min']\n",
    "df_tips_range = df_tips.sort_values(by=['variation'], ascending=False)\n",
    "print(df_tips_range.head(1), df_tips_range.tail(1))"
   ]
  },
  {
   "cell_type": "markdown",
   "id": "a204f5f9",
   "metadata": {},
   "source": [
    "**Queston Set 4b:**  \n",
    "- figure out the total trip fare by test and control group\n",
    "- figure out the contribution of each trip (% of each trip fare to total fare), segmented by test and control group"
   ]
  },
  {
   "cell_type": "code",
   "execution_count": 50,
   "id": "d360d756",
   "metadata": {},
   "outputs": [
    {
     "data": {
      "text/plain": [
       "test_control\n",
       "False    32.491797\n",
       "True     32.323593\n",
       "Name: trip_total_fare, dtype: float64"
      ]
     },
     "execution_count": 50,
     "metadata": {},
     "output_type": "execute_result"
    }
   ],
   "source": [
    "df['trip_total_fare'] = df['trip_fare'] + df['trip_tips']\n",
    "df.groupby(['test_control'])['trip_total_fare'].mean()"
   ]
  },
  {
   "cell_type": "code",
   "execution_count": 51,
   "id": "6f6583cf",
   "metadata": {},
   "outputs": [
    {
     "data": {
      "text/plain": [
       "test_control\n",
       "False    27.764960\n",
       "True     27.490302\n",
       "Name: trip_fare, dtype: float64"
      ]
     },
     "execution_count": 51,
     "metadata": {},
     "output_type": "execute_result"
    }
   ],
   "source": [
    "df.groupby(['test_control'])['trip_fare'].mean()"
   ]
  },
  {
   "cell_type": "code",
   "execution_count": 52,
   "id": "433d6189",
   "metadata": {},
   "outputs": [
    {
     "data": {
      "text/plain": [
       "test_control\n",
       "False    4.726837\n",
       "True     4.833291\n",
       "Name: trip_tips, dtype: float64"
      ]
     },
     "execution_count": 52,
     "metadata": {},
     "output_type": "execute_result"
    }
   ],
   "source": [
    "df.groupby(['test_control'])['trip_tips'].mean()"
   ]
  },
  {
   "cell_type": "markdown",
   "id": "4049883a",
   "metadata": {},
   "source": [
    "**Queston Set 4c:**  \n",
    "- customer can select a driver more than once in the data. can you figure out how many unique cust-driver pair in the table?"
   ]
  },
  {
   "cell_type": "code",
   "execution_count": 53,
   "id": "6741f395",
   "metadata": {},
   "outputs": [
    {
     "data": {
      "text/plain": [
       "1597"
      ]
     },
     "execution_count": 53,
     "metadata": {},
     "output_type": "execute_result"
    }
   ],
   "source": [
    "df['customer_driver_pair'] = df['cust_id'].astype(str) + '_' + df['driver_id'].astype(str)\n",
    "df['customer_driver_pair'].nunique()"
   ]
  },
  {
   "cell_type": "markdown",
   "id": "550141d7",
   "metadata": {},
   "source": [
    "**Queston Set 4d:**  \n",
    "- not every customer paid tips in each trip. can you calculate the total number of tipping event per customer."
   ]
  },
  {
   "cell_type": "code",
   "execution_count": 55,
   "id": "f46533e5",
   "metadata": {},
   "outputs": [
    {
     "data": {
      "text/plain": [
       "cust_id\n",
       "1      21\n",
       "2      18\n",
       "3      20\n",
       "4      27\n",
       "5      30\n",
       "       ..\n",
       "96     17\n",
       "97     25\n",
       "98     26\n",
       "99     21\n",
       "100    22\n",
       "Name: trip_id, Length: 100, dtype: int64"
      ]
     },
     "execution_count": 55,
     "metadata": {},
     "output_type": "execute_result"
    }
   ],
   "source": [
    "df_cust[df_cust['trip_tips']>0].groupby(['cust_id'])['trip_id'].count()"
   ]
  },
  {
   "cell_type": "markdown",
   "id": "d608b224",
   "metadata": {},
   "source": [
    "**Question Set 4e**\n",
    "- divide the customers in 10 equal bins based on trip fare, and calculate the average tips in each bin."
   ]
  },
  {
   "cell_type": "code",
   "execution_count": 60,
   "id": "4a8080ca",
   "metadata": {},
   "outputs": [
    {
     "data": {
      "text/plain": [
       "fare_bin\n",
       "0    4.443486\n",
       "1    5.212659\n",
       "2    5.308857\n",
       "3    4.581503\n",
       "4    5.136782\n",
       "5    4.599943\n",
       "6    4.589364\n",
       "7    4.730862\n",
       "8    4.612759\n",
       "9    4.577759\n",
       "Name: trip_tips, dtype: float64"
      ]
     },
     "execution_count": 60,
     "metadata": {},
     "output_type": "execute_result"
    }
   ],
   "source": [
    "df_cust['fare_bin'] = pd.qcut(df_cust['trip_fare'], 10, labels=False)\n",
    "df_cust.groupby(['fare_bin'])['trip_tips'].mean()"
   ]
  },
  {
   "cell_type": "markdown",
   "id": "fa2c90af",
   "metadata": {},
   "source": [
    "### 🧠 Section 5: Know the time\n",
    "\n",
    "**Objective:**  \n",
    "Get familar with time time formating and time series\n",
    "\n",
    "**Tips:**  \n",
    "- to_datetime()\n",
    "- shift()"
   ]
  },
  {
   "cell_type": "markdown",
   "id": "833647d5",
   "metadata": {},
   "source": [
    "**Queston Set 5a:**  \n",
    "- can you calcuate the average trip fare per month, segmented by test and control group?\n",
    "- can you plot the above results to show the trend?"
   ]
  },
  {
   "cell_type": "code",
   "execution_count": 82,
   "id": "ff124fd5",
   "metadata": {},
   "outputs": [],
   "source": [
    "df['trip_year_month'] = df['trip_date'].str[:7]\n",
    "df_test = df.groupby(['test_control', 'trip_year_month'])['trip_fare'].mean()\n",
    "df_test.columns = ['avg_fare']\n",
    "df_test = df_test.reset_index()\n",
    "df_test['trip_year_month'] = pd.to_datetime(df_test['trip_year_month'])"
   ]
  },
  {
   "cell_type": "code",
   "execution_count": 85,
   "id": "0a7cc61f",
   "metadata": {},
   "outputs": [
    {
     "data": {
      "text/html": [
       "<div>\n",
       "<style scoped>\n",
       "    .dataframe tbody tr th:only-of-type {\n",
       "        vertical-align: middle;\n",
       "    }\n",
       "\n",
       "    .dataframe tbody tr th {\n",
       "        vertical-align: top;\n",
       "    }\n",
       "\n",
       "    .dataframe thead th {\n",
       "        text-align: right;\n",
       "    }\n",
       "</style>\n",
       "<table border=\"1\" class=\"dataframe\">\n",
       "  <thead>\n",
       "    <tr style=\"text-align: right;\">\n",
       "      <th></th>\n",
       "      <th>test_control</th>\n",
       "      <th>trip_year_month</th>\n",
       "      <th>trip_fare</th>\n",
       "    </tr>\n",
       "  </thead>\n",
       "  <tbody>\n",
       "    <tr>\n",
       "      <th>0</th>\n",
       "      <td>False</td>\n",
       "      <td>2025-02-01</td>\n",
       "      <td>27.222113</td>\n",
       "    </tr>\n",
       "    <tr>\n",
       "      <th>1</th>\n",
       "      <td>False</td>\n",
       "      <td>2025-03-01</td>\n",
       "      <td>27.989164</td>\n",
       "    </tr>\n",
       "    <tr>\n",
       "      <th>2</th>\n",
       "      <td>False</td>\n",
       "      <td>2025-04-01</td>\n",
       "      <td>27.926436</td>\n",
       "    </tr>\n",
       "    <tr>\n",
       "      <th>3</th>\n",
       "      <td>False</td>\n",
       "      <td>2025-05-01</td>\n",
       "      <td>27.709730</td>\n",
       "    </tr>\n",
       "    <tr>\n",
       "      <th>4</th>\n",
       "      <td>True</td>\n",
       "      <td>2025-02-01</td>\n",
       "      <td>27.607407</td>\n",
       "    </tr>\n",
       "  </tbody>\n",
       "</table>\n",
       "</div>"
      ],
      "text/plain": [
       "   test_control trip_year_month  trip_fare\n",
       "0         False      2025-02-01  27.222113\n",
       "1         False      2025-03-01  27.989164\n",
       "2         False      2025-04-01  27.926436\n",
       "3         False      2025-05-01  27.709730\n",
       "4          True      2025-02-01  27.607407"
      ]
     },
     "execution_count": 85,
     "metadata": {},
     "output_type": "execute_result"
    }
   ],
   "source": [
    "df_test.head()"
   ]
  },
  {
   "cell_type": "code",
   "execution_count": 88,
   "id": "74a50901",
   "metadata": {},
   "outputs": [
    {
     "data": {
      "text/plain": [
       "(array([20120., 20134., 20148., 20162., 20179., 20193., 20209.]),\n",
       " [Text(20120.0, 0, '2025-02-01'),\n",
       "  Text(20134.0, 0, '2025-02-15'),\n",
       "  Text(20148.0, 0, '2025-03-01'),\n",
       "  Text(20162.0, 0, '2025-03-15'),\n",
       "  Text(20179.0, 0, '2025-04-01'),\n",
       "  Text(20193.0, 0, '2025-04-15'),\n",
       "  Text(20209.0, 0, '2025-05-01')])"
      ]
     },
     "execution_count": 88,
     "metadata": {},
     "output_type": "execute_result"
    },
    {
     "data": {
      "image/png": "[encoded data removed]",
      "text/plain": [
       "<Figure size 640x480 with 1 Axes>"
      ]
     },
     "metadata": {},
     "output_type": "display_data"
    }
   ],
   "source": [
    "sns.lineplot(data=df_test, x='trip_year_month', y='trip_fare', hue='test_control')\n",
    "plt.xticks(rotation=45)"
   ]
  },
  {
   "cell_type": "markdown",
   "id": "88d7de1a",
   "metadata": {},
   "source": [
    "**Queston Set 5b:**  \n",
    "- A promising customer is defined as those that have 3 more trip fare increasing events (increase compared to last trip). Find all of them."
   ]
  },
  {
   "cell_type": "code",
   "execution_count": 94,
   "id": "af34b283",
   "metadata": {},
   "outputs": [
    {
     "data": {
      "text/html": [
       "<div>\n",
       "<style scoped>\n",
       "    .dataframe tbody tr th:only-of-type {\n",
       "        vertical-align: middle;\n",
       "    }\n",
       "\n",
       "    .dataframe tbody tr th {\n",
       "        vertical-align: top;\n",
       "    }\n",
       "\n",
       "    .dataframe thead th {\n",
       "        text-align: right;\n",
       "    }\n",
       "</style>\n",
       "<table border=\"1\" class=\"dataframe\">\n",
       "  <thead>\n",
       "    <tr style=\"text-align: right;\">\n",
       "      <th></th>\n",
       "      <th>cust_id</th>\n",
       "      <th>uptrend_count</th>\n",
       "    </tr>\n",
       "  </thead>\n",
       "  <tbody>\n",
       "    <tr>\n",
       "      <th>0</th>\n",
       "      <td>1.0</td>\n",
       "      <td>10</td>\n",
       "    </tr>\n",
       "    <tr>\n",
       "      <th>1</th>\n",
       "      <td>2.0</td>\n",
       "      <td>9</td>\n",
       "    </tr>\n",
       "    <tr>\n",
       "      <th>2</th>\n",
       "      <td>3.0</td>\n",
       "      <td>11</td>\n",
       "    </tr>\n",
       "    <tr>\n",
       "      <th>3</th>\n",
       "      <td>4.0</td>\n",
       "      <td>16</td>\n",
       "    </tr>\n",
       "    <tr>\n",
       "      <th>4</th>\n",
       "      <td>5.0</td>\n",
       "      <td>14</td>\n",
       "    </tr>\n",
       "    <tr>\n",
       "      <th>...</th>\n",
       "      <td>...</td>\n",
       "      <td>...</td>\n",
       "    </tr>\n",
       "    <tr>\n",
       "      <th>95</th>\n",
       "      <td>96.0</td>\n",
       "      <td>8</td>\n",
       "    </tr>\n",
       "    <tr>\n",
       "      <th>96</th>\n",
       "      <td>97.0</td>\n",
       "      <td>12</td>\n",
       "    </tr>\n",
       "    <tr>\n",
       "      <th>97</th>\n",
       "      <td>98.0</td>\n",
       "      <td>12</td>\n",
       "    </tr>\n",
       "    <tr>\n",
       "      <th>98</th>\n",
       "      <td>99.0</td>\n",
       "      <td>10</td>\n",
       "    </tr>\n",
       "    <tr>\n",
       "      <th>99</th>\n",
       "      <td>100.0</td>\n",
       "      <td>8</td>\n",
       "    </tr>\n",
       "  </tbody>\n",
       "</table>\n",
       "<p>84 rows × 2 columns</p>\n",
       "</div>"
      ],
      "text/plain": [
       "    cust_id  uptrend_count\n",
       "0       1.0             10\n",
       "1       2.0              9\n",
       "2       3.0             11\n",
       "3       4.0             16\n",
       "4       5.0             14\n",
       "..      ...            ...\n",
       "95     96.0              8\n",
       "96     97.0             12\n",
       "97     98.0             12\n",
       "98     99.0             10\n",
       "99    100.0              8\n",
       "\n",
       "[84 rows x 2 columns]"
      ]
     },
     "execution_count": 94,
     "metadata": {},
     "output_type": "execute_result"
    }
   ],
   "source": [
    "df = df.sort_values(by=['cust_id','trip_date'])\n",
    "df['uptrend'] = (df['trip_fare'] > df.groupby('cust_id')['trip_fare'].shift(1)).astype(int)\n",
    "df_promising = df.groupby(df['cust_id'])['uptrend'].sum().reset_index()\n",
    "df_promising.columns = ['cust_id', 'uptrend_count']\n",
    "df_promising[df_promising['uptrend_count'] >=3]"
   ]
  },
  {
   "cell_type": "markdown",
   "id": "4eaf01e2",
   "metadata": {},
   "source": [
    "**Queston Set 5c:**  \n",
    "- lag is defined as days between current trip and previous trip. calculate the average lag for each customers"
   ]
  },
  {
   "cell_type": "code",
   "execution_count": 104,
   "id": "62640930",
   "metadata": {},
   "outputs": [
    {
     "data": {
      "text/html": [
       "<div>\n",
       "<style scoped>\n",
       "    .dataframe tbody tr th:only-of-type {\n",
       "        vertical-align: middle;\n",
       "    }\n",
       "\n",
       "    .dataframe tbody tr th {\n",
       "        vertical-align: top;\n",
       "    }\n",
       "\n",
       "    .dataframe thead th {\n",
       "        text-align: right;\n",
       "    }\n",
       "</style>\n",
       "<table border=\"1\" class=\"dataframe\">\n",
       "  <thead>\n",
       "    <tr style=\"text-align: right;\">\n",
       "      <th></th>\n",
       "      <th>cust_name</th>\n",
       "      <th>lag</th>\n",
       "    </tr>\n",
       "  </thead>\n",
       "  <tbody>\n",
       "    <tr>\n",
       "      <th>69</th>\n",
       "      <td>Michael Williams</td>\n",
       "      <td>55.000000</td>\n",
       "    </tr>\n",
       "    <tr>\n",
       "      <th>53</th>\n",
       "      <td>Kyle Hernandez</td>\n",
       "      <td>55.000000</td>\n",
       "    </tr>\n",
       "    <tr>\n",
       "      <th>79</th>\n",
       "      <td>Philip Yu</td>\n",
       "      <td>44.000000</td>\n",
       "    </tr>\n",
       "    <tr>\n",
       "      <th>12</th>\n",
       "      <td>Bobby Welch</td>\n",
       "      <td>41.000000</td>\n",
       "    </tr>\n",
       "    <tr>\n",
       "      <th>38</th>\n",
       "      <td>John Soto</td>\n",
       "      <td>36.500000</td>\n",
       "    </tr>\n",
       "    <tr>\n",
       "      <th>80</th>\n",
       "      <td>Rachel Nguyen</td>\n",
       "      <td>28.500000</td>\n",
       "    </tr>\n",
       "    <tr>\n",
       "      <th>65</th>\n",
       "      <td>Melanie Green</td>\n",
       "      <td>25.666667</td>\n",
       "    </tr>\n",
       "    <tr>\n",
       "      <th>57</th>\n",
       "      <td>Linda Hall</td>\n",
       "      <td>16.333333</td>\n",
       "    </tr>\n",
       "    <tr>\n",
       "      <th>66</th>\n",
       "      <td>Melanie Harper</td>\n",
       "      <td>15.500000</td>\n",
       "    </tr>\n",
       "    <tr>\n",
       "      <th>20</th>\n",
       "      <td>Christopher Cole</td>\n",
       "      <td>12.428571</td>\n",
       "    </tr>\n",
       "  </tbody>\n",
       "</table>\n",
       "</div>"
      ],
      "text/plain": [
       "           cust_name        lag\n",
       "69  Michael Williams  55.000000\n",
       "53    Kyle Hernandez  55.000000\n",
       "79         Philip Yu  44.000000\n",
       "12       Bobby Welch  41.000000\n",
       "38         John Soto  36.500000\n",
       "80     Rachel Nguyen  28.500000\n",
       "65     Melanie Green  25.666667\n",
       "57        Linda Hall  16.333333\n",
       "66    Melanie Harper  15.500000\n",
       "20  Christopher Cole  12.428571"
      ]
     },
     "execution_count": 104,
     "metadata": {},
     "output_type": "execute_result"
    }
   ],
   "source": [
    "df['trip_date'] = pd.to_datetime(df['trip_date'])\n",
    "df['lag'] = df['trip_date'] - df.groupby('cust_id')['trip_date'].shift(1)\n",
    "df['lag'] = df['lag'].dt.days\n",
    "df.groupby(['cust_name'])['lag'].mean().reset_index().sort_values(by='lag', ascending=False).head(10)"
   ]
  },
  {
   "cell_type": "markdown",
   "id": "403c83b2",
   "metadata": {},
   "source": [
    "### 🧠 Section 6: Know Pivot Table\n",
    "\n",
    "**Objective:**  \n",
    "Get familar with pivot table\n",
    "\n",
    "**Tips:**  \n",
    "- pivot()"
   ]
  },
  {
   "cell_type": "markdown",
   "id": "339acdac",
   "metadata": {},
   "source": [
    "**Queston Set 6:**  \n",
    "- pivot the table so that the columns of the new table are ['test','control'], and the index is vehicle type. The values in the table should be the trip distance."
   ]
  },
  {
   "cell_type": "code",
   "execution_count": 108,
   "id": "1ec80c09",
   "metadata": {},
   "outputs": [
    {
     "data": {
      "text/html": [
       "<div>\n",
       "<style scoped>\n",
       "    .dataframe tbody tr th:only-of-type {\n",
       "        vertical-align: middle;\n",
       "    }\n",
       "\n",
       "    .dataframe tbody tr th {\n",
       "        vertical-align: top;\n",
       "    }\n",
       "\n",
       "    .dataframe thead th {\n",
       "        text-align: right;\n",
       "    }\n",
       "</style>\n",
       "<table border=\"1\" class=\"dataframe\">\n",
       "  <thead>\n",
       "    <tr style=\"text-align: right;\">\n",
       "      <th></th>\n",
       "      <th>vehicle</th>\n",
       "      <th>control</th>\n",
       "      <th>test</th>\n",
       "    </tr>\n",
       "  </thead>\n",
       "  <tbody>\n",
       "    <tr>\n",
       "      <th>0</th>\n",
       "      <td>BMW</td>\n",
       "      <td>0.00</td>\n",
       "      <td>NaN</td>\n",
       "    </tr>\n",
       "    <tr>\n",
       "      <th>1</th>\n",
       "      <td>Chevrolet</td>\n",
       "      <td>883.34</td>\n",
       "      <td>992.48</td>\n",
       "    </tr>\n",
       "    <tr>\n",
       "      <th>2</th>\n",
       "      <td>Ford</td>\n",
       "      <td>625.95</td>\n",
       "      <td>828.92</td>\n",
       "    </tr>\n",
       "    <tr>\n",
       "      <th>3</th>\n",
       "      <td>Honda</td>\n",
       "      <td>980.70</td>\n",
       "      <td>577.90</td>\n",
       "    </tr>\n",
       "    <tr>\n",
       "      <th>4</th>\n",
       "      <td>Nissan</td>\n",
       "      <td>613.79</td>\n",
       "      <td>754.86</td>\n",
       "    </tr>\n",
       "    <tr>\n",
       "      <th>5</th>\n",
       "      <td>Telsa</td>\n",
       "      <td>537.56</td>\n",
       "      <td>639.02</td>\n",
       "    </tr>\n",
       "    <tr>\n",
       "      <th>6</th>\n",
       "      <td>Toyota</td>\n",
       "      <td>916.19</td>\n",
       "      <td>433.36</td>\n",
       "    </tr>\n",
       "  </tbody>\n",
       "</table>\n",
       "</div>"
      ],
      "text/plain": [
       "     vehicle  control    test\n",
       "0        BMW     0.00     NaN\n",
       "1  Chevrolet   883.34  992.48\n",
       "2       Ford   625.95  828.92\n",
       "3      Honda   980.70  577.90\n",
       "4     Nissan   613.79  754.86\n",
       "5      Telsa   537.56  639.02\n",
       "6     Toyota   916.19  433.36"
      ]
     },
     "execution_count": 108,
     "metadata": {},
     "output_type": "execute_result"
    }
   ],
   "source": [
    "df_by_assignment = pd.pivot_table(df, index='vehicle', columns='test_control', values='trip_distance', aggfunc='sum')\n",
    "df_by_assignment = df_by_assignment.reset_index()\n",
    "df_by_assignment.columns = ['vehicle', 'control', 'test']\n",
    "df_by_assignment"
   ]
  },
  {
   "cell_type": "markdown",
   "id": "6331263f",
   "metadata": {},
   "source": [
    "### 🧠 Section 7: Numpy\n",
    "\n",
    "**Objective:**  \n",
    "Get familar with numpy and simulation\n",
    "\n",
    "**Tips:**  \n",
    "- numpy.random"
   ]
  },
  {
   "cell_type": "markdown",
   "id": "9cf916c2",
   "metadata": {},
   "source": [
    "**Question Set 7**\n",
    "- calculate average and standard deviation of tips by bootstrapping (tips: do 100 experiments, sample 50% of the population in each experiment, and calculate mean)\n",
    "- assign a probability for each trip from a uniform distribution. if the p > 0.5, select the row."
   ]
  },
  {
   "cell_type": "code",
   "execution_count": null,
   "id": "5e3e1c8b",
   "metadata": {},
   "outputs": [
    {
     "name": "stdout",
     "output_type": "stream",
     "text": [
      "4.82, 0.00\n"
     ]
    }
   ],
   "source": [
    "bootstrap_n = 100\n",
    "tip_means = []\n",
    "for i in range(bootstrap_n):\n",
    "    df_sample = df.sample(frac=0.5, random_state=42, replace=True)\n",
    "    tip_means.append(df_sample['trip_tips'].mean())\n",
    "\n",
    "print(f'{np.mean(tip_means):.2f}, {np.std(tip_means):.2f}')\n"
   ]
  },
  {
   "cell_type": "code",
   "execution_count": 112,
   "id": "f899fc62",
   "metadata": {},
   "outputs": [
    {
     "data": {
      "text/html": [
       "<div>\n",
       "<style scoped>\n",
       "    .dataframe tbody tr th:only-of-type {\n",
       "        vertical-align: middle;\n",
       "    }\n",
       "\n",
       "    .dataframe tbody tr th {\n",
       "        vertical-align: top;\n",
       "    }\n",
       "\n",
       "    .dataframe thead th {\n",
       "        text-align: right;\n",
       "    }\n",
       "</style>\n",
       "<table border=\"1\" class=\"dataframe\">\n",
       "  <thead>\n",
       "    <tr style=\"text-align: right;\">\n",
       "      <th></th>\n",
       "      <th>driver_id</th>\n",
       "      <th>vehicle</th>\n",
       "      <th>test_control</th>\n",
       "      <th>cust_id</th>\n",
       "      <th>trip_date</th>\n",
       "      <th>trip_distance</th>\n",
       "      <th>trip_duration</th>\n",
       "      <th>trip_fare</th>\n",
       "      <th>trip_tips</th>\n",
       "      <th>trip_wait_time</th>\n",
       "      <th>trip_rating</th>\n",
       "      <th>pri_id</th>\n",
       "      <th>cust_name</th>\n",
       "      <th>trip_id</th>\n",
       "      <th>trip_total_fare</th>\n",
       "      <th>customer_driver_pair</th>\n",
       "      <th>trip_year_month</th>\n",
       "      <th>uptrend</th>\n",
       "      <th>lag</th>\n",
       "      <th>prob</th>\n",
       "    </tr>\n",
       "  </thead>\n",
       "  <tbody>\n",
       "    <tr>\n",
       "      <th>1185</th>\n",
       "      <td>101</td>\n",
       "      <td>Nissan</td>\n",
       "      <td>False</td>\n",
       "      <td>1.0</td>\n",
       "      <td>2025-02-14</td>\n",
       "      <td>0.30</td>\n",
       "      <td>0.22</td>\n",
       "      <td>36.86</td>\n",
       "      <td>6.01</td>\n",
       "      <td>0.0</td>\n",
       "      <td>NaN</td>\n",
       "      <td>80.0</td>\n",
       "      <td>Jason Cunningham</td>\n",
       "      <td>T2</td>\n",
       "      <td>42.87</td>\n",
       "      <td>1.0_101</td>\n",
       "      <td>2025-02</td>\n",
       "      <td>1</td>\n",
       "      <td>1.0</td>\n",
       "      <td>0.736778</td>\n",
       "    </tr>\n",
       "    <tr>\n",
       "      <th>856</th>\n",
       "      <td>73</td>\n",
       "      <td>Honda</td>\n",
       "      <td>False</td>\n",
       "      <td>1.0</td>\n",
       "      <td>2025-02-21</td>\n",
       "      <td>8.93</td>\n",
       "      <td>12.54</td>\n",
       "      <td>13.25</td>\n",
       "      <td>1.82</td>\n",
       "      <td>1.0</td>\n",
       "      <td>4.0</td>\n",
       "      <td>80.0</td>\n",
       "      <td>Jason Cunningham</td>\n",
       "      <td>T3</td>\n",
       "      <td>15.07</td>\n",
       "      <td>1.0_73</td>\n",
       "      <td>2025-02</td>\n",
       "      <td>0</td>\n",
       "      <td>7.0</td>\n",
       "      <td>0.710824</td>\n",
       "    </tr>\n",
       "    <tr>\n",
       "      <th>1129</th>\n",
       "      <td>96</td>\n",
       "      <td>Chevrolet</td>\n",
       "      <td>False</td>\n",
       "      <td>1.0</td>\n",
       "      <td>2025-03-09</td>\n",
       "      <td>0.17</td>\n",
       "      <td>0.12</td>\n",
       "      <td>34.81</td>\n",
       "      <td>2.59</td>\n",
       "      <td>1.0</td>\n",
       "      <td>4.0</td>\n",
       "      <td>80.0</td>\n",
       "      <td>Jason Cunningham</td>\n",
       "      <td>T8</td>\n",
       "      <td>37.40</td>\n",
       "      <td>1.0_96</td>\n",
       "      <td>2025-03</td>\n",
       "      <td>1</td>\n",
       "      <td>2.0</td>\n",
       "      <td>0.849293</td>\n",
       "    </tr>\n",
       "    <tr>\n",
       "      <th>837</th>\n",
       "      <td>71</td>\n",
       "      <td>Telsa</td>\n",
       "      <td>False</td>\n",
       "      <td>1.0</td>\n",
       "      <td>2025-03-10</td>\n",
       "      <td>3.96</td>\n",
       "      <td>5.78</td>\n",
       "      <td>39.88</td>\n",
       "      <td>9.70</td>\n",
       "      <td>8.0</td>\n",
       "      <td>5.0</td>\n",
       "      <td>80.0</td>\n",
       "      <td>Jason Cunningham</td>\n",
       "      <td>T9</td>\n",
       "      <td>49.58</td>\n",
       "      <td>1.0_71</td>\n",
       "      <td>2025-03</td>\n",
       "      <td>1</td>\n",
       "      <td>1.0</td>\n",
       "      <td>0.866102</td>\n",
       "    </tr>\n",
       "    <tr>\n",
       "      <th>426</th>\n",
       "      <td>34</td>\n",
       "      <td>Chevrolet</td>\n",
       "      <td>False</td>\n",
       "      <td>1.0</td>\n",
       "      <td>2025-03-13</td>\n",
       "      <td>2.46</td>\n",
       "      <td>3.19</td>\n",
       "      <td>21.05</td>\n",
       "      <td>8.29</td>\n",
       "      <td>1.0</td>\n",
       "      <td>4.0</td>\n",
       "      <td>80.0</td>\n",
       "      <td>Jason Cunningham</td>\n",
       "      <td>T11</td>\n",
       "      <td>29.34</td>\n",
       "      <td>1.0_34</td>\n",
       "      <td>2025-03</td>\n",
       "      <td>1</td>\n",
       "      <td>2.0</td>\n",
       "      <td>0.731268</td>\n",
       "    </tr>\n",
       "    <tr>\n",
       "      <th>...</th>\n",
       "      <td>...</td>\n",
       "      <td>...</td>\n",
       "      <td>...</td>\n",
       "      <td>...</td>\n",
       "      <td>...</td>\n",
       "      <td>...</td>\n",
       "      <td>...</td>\n",
       "      <td>...</td>\n",
       "      <td>...</td>\n",
       "      <td>...</td>\n",
       "      <td>...</td>\n",
       "      <td>...</td>\n",
       "      <td>...</td>\n",
       "      <td>...</td>\n",
       "      <td>...</td>\n",
       "      <td>...</td>\n",
       "      <td>...</td>\n",
       "      <td>...</td>\n",
       "      <td>...</td>\n",
       "      <td>...</td>\n",
       "    </tr>\n",
       "    <tr>\n",
       "      <th>1300</th>\n",
       "      <td>110</td>\n",
       "      <td>Ford</td>\n",
       "      <td>True</td>\n",
       "      <td>100.0</td>\n",
       "      <td>2025-03-29</td>\n",
       "      <td>15.81</td>\n",
       "      <td>11.56</td>\n",
       "      <td>22.11</td>\n",
       "      <td>0.02</td>\n",
       "      <td>5.0</td>\n",
       "      <td>4.0</td>\n",
       "      <td>42.0</td>\n",
       "      <td>Shawn Morris</td>\n",
       "      <td>T1728</td>\n",
       "      <td>22.13</td>\n",
       "      <td>100.0_110</td>\n",
       "      <td>2025-03</td>\n",
       "      <td>0</td>\n",
       "      <td>1.0</td>\n",
       "      <td>0.668056</td>\n",
       "    </tr>\n",
       "    <tr>\n",
       "      <th>903</th>\n",
       "      <td>76</td>\n",
       "      <td>Nissan</td>\n",
       "      <td>False</td>\n",
       "      <td>100.0</td>\n",
       "      <td>2025-04-11</td>\n",
       "      <td>29.98</td>\n",
       "      <td>30.18</td>\n",
       "      <td>28.09</td>\n",
       "      <td>1.78</td>\n",
       "      <td>5.0</td>\n",
       "      <td>5.0</td>\n",
       "      <td>42.0</td>\n",
       "      <td>Shawn Morris</td>\n",
       "      <td>T1730</td>\n",
       "      <td>29.87</td>\n",
       "      <td>100.0_76</td>\n",
       "      <td>2025-04</td>\n",
       "      <td>0</td>\n",
       "      <td>11.0</td>\n",
       "      <td>0.945390</td>\n",
       "    </tr>\n",
       "    <tr>\n",
       "      <th>1088</th>\n",
       "      <td>91</td>\n",
       "      <td>Honda</td>\n",
       "      <td>False</td>\n",
       "      <td>100.0</td>\n",
       "      <td>2025-04-18</td>\n",
       "      <td>0.70</td>\n",
       "      <td>0.47</td>\n",
       "      <td>45.20</td>\n",
       "      <td>8.68</td>\n",
       "      <td>7.0</td>\n",
       "      <td>4.0</td>\n",
       "      <td>42.0</td>\n",
       "      <td>Shawn Morris</td>\n",
       "      <td>T1732</td>\n",
       "      <td>53.88</td>\n",
       "      <td>100.0_91</td>\n",
       "      <td>2025-04</td>\n",
       "      <td>1</td>\n",
       "      <td>3.0</td>\n",
       "      <td>0.750438</td>\n",
       "    </tr>\n",
       "    <tr>\n",
       "      <th>1220</th>\n",
       "      <td>103</td>\n",
       "      <td>Toyota</td>\n",
       "      <td>True</td>\n",
       "      <td>100.0</td>\n",
       "      <td>2025-05-04</td>\n",
       "      <td>5.98</td>\n",
       "      <td>10.27</td>\n",
       "      <td>30.17</td>\n",
       "      <td>4.18</td>\n",
       "      <td>1.0</td>\n",
       "      <td>4.0</td>\n",
       "      <td>42.0</td>\n",
       "      <td>Shawn Morris</td>\n",
       "      <td>T1737</td>\n",
       "      <td>34.35</td>\n",
       "      <td>100.0_103</td>\n",
       "      <td>2025-05</td>\n",
       "      <td>1</td>\n",
       "      <td>3.0</td>\n",
       "      <td>0.993702</td>\n",
       "    </tr>\n",
       "    <tr>\n",
       "      <th>1245</th>\n",
       "      <td>105</td>\n",
       "      <td>Toyota</td>\n",
       "      <td>True</td>\n",
       "      <td>100.0</td>\n",
       "      <td>2025-05-07</td>\n",
       "      <td>4.59</td>\n",
       "      <td>5.55</td>\n",
       "      <td>42.82</td>\n",
       "      <td>7.81</td>\n",
       "      <td>1.0</td>\n",
       "      <td>5.0</td>\n",
       "      <td>42.0</td>\n",
       "      <td>Shawn Morris</td>\n",
       "      <td>T1738</td>\n",
       "      <td>50.63</td>\n",
       "      <td>100.0_105</td>\n",
       "      <td>2025-05</td>\n",
       "      <td>1</td>\n",
       "      <td>3.0</td>\n",
       "      <td>0.806344</td>\n",
       "    </tr>\n",
       "  </tbody>\n",
       "</table>\n",
       "<p>872 rows × 20 columns</p>\n",
       "</div>"
      ],
      "text/plain": [
       "      driver_id    vehicle  test_control  cust_id  trip_date  trip_distance  \\\n",
       "1185        101     Nissan         False      1.0 2025-02-14           0.30   \n",
       "856          73      Honda         False      1.0 2025-02-21           8.93   \n",
       "1129         96  Chevrolet         False      1.0 2025-03-09           0.17   \n",
       "837          71      Telsa         False      1.0 2025-03-10           3.96   \n",
       "426          34  Chevrolet         False      1.0 2025-03-13           2.46   \n",
       "...         ...        ...           ...      ...        ...            ...   \n",
       "1300        110       Ford          True    100.0 2025-03-29          15.81   \n",
       "903          76     Nissan         False    100.0 2025-04-11          29.98   \n",
       "1088         91      Honda         False    100.0 2025-04-18           0.70   \n",
       "1220        103     Toyota          True    100.0 2025-05-04           5.98   \n",
       "1245        105     Toyota          True    100.0 2025-05-07           4.59   \n",
       "\n",
       "      trip_duration  trip_fare  trip_tips  trip_wait_time  trip_rating  \\\n",
       "1185           0.22      36.86       6.01             0.0          NaN   \n",
       "856           12.54      13.25       1.82             1.0          4.0   \n",
       "1129           0.12      34.81       2.59             1.0          4.0   \n",
       "837            5.78      39.88       9.70             8.0          5.0   \n",
       "426            3.19      21.05       8.29             1.0          4.0   \n",
       "...             ...        ...        ...             ...          ...   \n",
       "1300          11.56      22.11       0.02             5.0          4.0   \n",
       "903           30.18      28.09       1.78             5.0          5.0   \n",
       "1088           0.47      45.20       8.68             7.0          4.0   \n",
       "1220          10.27      30.17       4.18             1.0          4.0   \n",
       "1245           5.55      42.82       7.81             1.0          5.0   \n",
       "\n",
       "      pri_id         cust_name trip_id  trip_total_fare customer_driver_pair  \\\n",
       "1185    80.0  Jason Cunningham      T2            42.87              1.0_101   \n",
       "856     80.0  Jason Cunningham      T3            15.07               1.0_73   \n",
       "1129    80.0  Jason Cunningham      T8            37.40               1.0_96   \n",
       "837     80.0  Jason Cunningham      T9            49.58               1.0_71   \n",
       "426     80.0  Jason Cunningham     T11            29.34               1.0_34   \n",
       "...      ...               ...     ...              ...                  ...   \n",
       "1300    42.0      Shawn Morris   T1728            22.13            100.0_110   \n",
       "903     42.0      Shawn Morris   T1730            29.87             100.0_76   \n",
       "1088    42.0      Shawn Morris   T1732            53.88             100.0_91   \n",
       "1220    42.0      Shawn Morris   T1737            34.35            100.0_103   \n",
       "1245    42.0      Shawn Morris   T1738            50.63            100.0_105   \n",
       "\n",
       "     trip_year_month  uptrend   lag      prob  \n",
       "1185         2025-02        1   1.0  0.736778  \n",
       "856          2025-02        0   7.0  0.710824  \n",
       "1129         2025-03        1   2.0  0.849293  \n",
       "837          2025-03        1   1.0  0.866102  \n",
       "426          2025-03        1   2.0  0.731268  \n",
       "...              ...      ...   ...       ...  \n",
       "1300         2025-03        0   1.0  0.668056  \n",
       "903          2025-04        0  11.0  0.945390  \n",
       "1088         2025-04        1   3.0  0.750438  \n",
       "1220         2025-05        1   3.0  0.993702  \n",
       "1245         2025-05        1   3.0  0.806344  \n",
       "\n",
       "[872 rows x 20 columns]"
      ]
     },
     "execution_count": 112,
     "metadata": {},
     "output_type": "execute_result"
    }
   ],
   "source": [
    "df['prob'] = np.random.uniform(0, 1, size=len(df))\n",
    "selected = df[df['prob'] > 0.5]\n",
    "selected"
   ]
  },
  {
   "cell_type": "code",
   "execution_count": null,
   "id": "ec1f030a",
   "metadata": {},
   "outputs": [],
   "source": []
  }
 ],
 "metadata": {
  "kernelspec": {
   "display_name": "air-loc",
   "language": "python",
   "name": "python3"
  },
  "language_info": {
   "codemirror_mode": {
    "name": "ipython",
    "version": 3
   },
   "file_extension": ".py",
   "mimetype": "text/x-python",
   "name": "python",
   "nbconvert_exporter": "python",
   "pygments_lexer": "ipython3",
   "version": "3.12.9"
  }
 },
 "nbformat": 4,
 "nbformat_minor": 5
}
